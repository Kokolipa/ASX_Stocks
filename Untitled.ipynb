{
 "cells": [
  {
   "cell_type": "code",
   "execution_count": 1,
   "id": "46903b9c",
   "metadata": {},
   "outputs": [],
   "source": [
    "import sqlalchemy\n",
    "from sqlalchemy import create_engine\n",
    "from sqlalchemy import select\n",
    "from sqlalchemy.orm import Session\n",
    "\n",
    "\n",
    "from flask import Flask, jsonify\n",
    "\n",
    "import datetime as dt\n",
    "import numpy as np\n",
    "\n",
    "from sqlalchemy import func"
   ]
  },
  {
   "cell_type": "code",
   "execution_count": 2,
   "id": "8cd664ce",
   "metadata": {},
   "outputs": [],
   "source": [
    "engine = create_engine('sqlite:///nasdaq.db')"
   ]
  },
  {
   "cell_type": "code",
   "execution_count": null,
   "id": "a0775242",
   "metadata": {},
   "outputs": [],
   "source": []
  },
  {
   "cell_type": "code",
   "execution_count": 3,
   "id": "23cdac4b",
   "metadata": {},
   "outputs": [],
   "source": [
    "app = Flask(__name__)"
   ]
  },
  {
   "cell_type": "code",
   "execution_count": 4,
   "id": "00781e7a",
   "metadata": {},
   "outputs": [],
   "source": [
    "@app.route(\"/\")\n",
    "def home():\n",
    "    return (f\"stock_data_api<br>\"\n",
    "           f\"/api/v1.0/<start>/<end>\")"
   ]
  },
  {
   "cell_type": "code",
   "execution_count": null,
   "id": "f91fb6a5",
   "metadata": {},
   "outputs": [],
   "source": [
    "# @app.route(\"/api/v1.0/<info\")\n",
    "# def info()"
   ]
  },
  {
   "cell_type": "code",
   "execution_count": 5,
   "id": "f8d126c0",
   "metadata": {},
   "outputs": [],
   "source": [
    "@app.route(\"/api/v1.0/<start>/<end>\")\n",
    "def int_date(start, end):\n",
    "    \n",
    "    session = Session(engine)\n",
    "    date_range_data = session.query(Data.open, Data.high, Data.low, Data.close, Data.volume).filter(Data.date >=start).filter(Data.date <= end).all()\n",
    "    session.close()\n",
    "    \n",
    "    date_range_results = list(np.ravel(date_range_data))\n",
    "       \n",
    "    \n",
    "    jsonify(date_range_results)\n",
    "#     response.headers.add('Access-Control-Allow-Origin', '*')\n",
    "#     return response"
   ]
  },
  {
   "cell_type": "code",
   "execution_count": 6,
   "id": "060bfabc",
   "metadata": {},
   "outputs": [],
   "source": [
    "if __name__ == \"main\":\n",
    "    app.run(debug=True)"
   ]
  },
  {
   "cell_type": "code",
   "execution_count": null,
   "id": "ad9c93c0",
   "metadata": {},
   "outputs": [],
   "source": []
  }
 ],
 "metadata": {
  "kernelspec": {
   "display_name": "Python 3 (ipykernel)",
   "language": "python",
   "name": "python3"
  },
  "language_info": {
   "codemirror_mode": {
    "name": "ipython",
    "version": 3
   },
   "file_extension": ".py",
   "mimetype": "text/x-python",
   "name": "python",
   "nbconvert_exporter": "python",
   "pygments_lexer": "ipython3",
   "version": "3.10.9"
  }
 },
 "nbformat": 4,
 "nbformat_minor": 5
}
